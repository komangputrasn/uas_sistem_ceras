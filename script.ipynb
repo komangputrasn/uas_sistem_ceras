{
 "cells": [
  {
   "cell_type": "code",
   "execution_count": 1,
   "metadata": {},
   "outputs": [],
   "source": [
    "import pandas as pd "
   ]
  },
  {
   "cell_type": "code",
   "execution_count": 2,
   "metadata": {},
   "outputs": [],
   "source": [
    "# Membuka file CSV\n",
    "csv = pd.read_csv(\"1_raw_data_13-12_22.03.16.csv\")\n",
    "\n",
    "# Masukan data CSV ke dalam DataFrame\n",
    "df = pd.DataFrame(csv)"
   ]
  },
  {
   "cell_type": "code",
   "execution_count": 3,
   "metadata": {},
   "outputs": [
    {
     "data": {
      "text/html": [
       "<div>\n",
       "<style scoped>\n",
       "    .dataframe tbody tr th:only-of-type {\n",
       "        vertical-align: middle;\n",
       "    }\n",
       "\n",
       "    .dataframe tbody tr th {\n",
       "        vertical-align: top;\n",
       "    }\n",
       "\n",
       "    .dataframe thead th {\n",
       "        text-align: right;\n",
       "    }\n",
       "</style>\n",
       "<table border=\"1\" class=\"dataframe\">\n",
       "  <thead>\n",
       "    <tr style=\"text-align: right;\">\n",
       "      <th></th>\n",
       "      <th>time</th>\n",
       "      <th>channel1</th>\n",
       "      <th>channel2</th>\n",
       "      <th>channel3</th>\n",
       "      <th>channel4</th>\n",
       "      <th>channel5</th>\n",
       "      <th>channel6</th>\n",
       "      <th>channel7</th>\n",
       "      <th>channel8</th>\n",
       "      <th>class</th>\n",
       "    </tr>\n",
       "  </thead>\n",
       "  <tbody>\n",
       "    <tr>\n",
       "      <th>count</th>\n",
       "      <td>63196.000000</td>\n",
       "      <td>63196.000000</td>\n",
       "      <td>63196.000000</td>\n",
       "      <td>63196.000000</td>\n",
       "      <td>63196.000000</td>\n",
       "      <td>63196.000000</td>\n",
       "      <td>63196.00000</td>\n",
       "      <td>63196.000000</td>\n",
       "      <td>63196.000000</td>\n",
       "      <td>63196.000000</td>\n",
       "    </tr>\n",
       "    <tr>\n",
       "      <th>mean</th>\n",
       "      <td>32777.490094</td>\n",
       "      <td>-0.000008</td>\n",
       "      <td>-0.000009</td>\n",
       "      <td>-0.000009</td>\n",
       "      <td>-0.000010</td>\n",
       "      <td>-0.000012</td>\n",
       "      <td>-0.00001</td>\n",
       "      <td>-0.000008</td>\n",
       "      <td>-0.000008</td>\n",
       "      <td>1.212086</td>\n",
       "    </tr>\n",
       "    <tr>\n",
       "      <th>std</th>\n",
       "      <td>18943.835626</td>\n",
       "      <td>0.000144</td>\n",
       "      <td>0.000134</td>\n",
       "      <td>0.000124</td>\n",
       "      <td>0.000155</td>\n",
       "      <td>0.000198</td>\n",
       "      <td>0.00016</td>\n",
       "      <td>0.000133</td>\n",
       "      <td>0.000142</td>\n",
       "      <td>1.947578</td>\n",
       "    </tr>\n",
       "    <tr>\n",
       "      <th>min</th>\n",
       "      <td>1.000000</td>\n",
       "      <td>-0.001110</td>\n",
       "      <td>-0.001020</td>\n",
       "      <td>-0.000910</td>\n",
       "      <td>-0.001040</td>\n",
       "      <td>-0.001280</td>\n",
       "      <td>-0.00112</td>\n",
       "      <td>-0.001090</td>\n",
       "      <td>-0.000980</td>\n",
       "      <td>0.000000</td>\n",
       "    </tr>\n",
       "    <tr>\n",
       "      <th>25%</th>\n",
       "      <td>16340.750000</td>\n",
       "      <td>-0.000030</td>\n",
       "      <td>-0.000040</td>\n",
       "      <td>-0.000050</td>\n",
       "      <td>-0.000040</td>\n",
       "      <td>-0.000040</td>\n",
       "      <td>-0.00004</td>\n",
       "      <td>-0.000030</td>\n",
       "      <td>-0.000030</td>\n",
       "      <td>0.000000</td>\n",
       "    </tr>\n",
       "    <tr>\n",
       "      <th>50%</th>\n",
       "      <td>32781.500000</td>\n",
       "      <td>-0.000010</td>\n",
       "      <td>-0.000010</td>\n",
       "      <td>-0.000010</td>\n",
       "      <td>-0.000010</td>\n",
       "      <td>-0.000010</td>\n",
       "      <td>-0.00001</td>\n",
       "      <td>-0.000010</td>\n",
       "      <td>-0.000010</td>\n",
       "      <td>0.000000</td>\n",
       "    </tr>\n",
       "    <tr>\n",
       "      <th>75%</th>\n",
       "      <td>49199.250000</td>\n",
       "      <td>0.000010</td>\n",
       "      <td>0.000020</td>\n",
       "      <td>0.000030</td>\n",
       "      <td>0.000020</td>\n",
       "      <td>0.000010</td>\n",
       "      <td>0.00001</td>\n",
       "      <td>0.000010</td>\n",
       "      <td>0.000010</td>\n",
       "      <td>2.000000</td>\n",
       "    </tr>\n",
       "    <tr>\n",
       "      <th>max</th>\n",
       "      <td>65661.000000</td>\n",
       "      <td>0.001270</td>\n",
       "      <td>0.001270</td>\n",
       "      <td>0.001270</td>\n",
       "      <td>0.001270</td>\n",
       "      <td>0.001270</td>\n",
       "      <td>0.00127</td>\n",
       "      <td>0.001270</td>\n",
       "      <td>0.001270</td>\n",
       "      <td>6.000000</td>\n",
       "    </tr>\n",
       "  </tbody>\n",
       "</table>\n",
       "</div>"
      ],
      "text/plain": [
       "               time      channel1      channel2      channel3      channel4  \\\n",
       "count  63196.000000  63196.000000  63196.000000  63196.000000  63196.000000   \n",
       "mean   32777.490094     -0.000008     -0.000009     -0.000009     -0.000010   \n",
       "std    18943.835626      0.000144      0.000134      0.000124      0.000155   \n",
       "min        1.000000     -0.001110     -0.001020     -0.000910     -0.001040   \n",
       "25%    16340.750000     -0.000030     -0.000040     -0.000050     -0.000040   \n",
       "50%    32781.500000     -0.000010     -0.000010     -0.000010     -0.000010   \n",
       "75%    49199.250000      0.000010      0.000020      0.000030      0.000020   \n",
       "max    65661.000000      0.001270      0.001270      0.001270      0.001270   \n",
       "\n",
       "           channel5     channel6      channel7      channel8         class  \n",
       "count  63196.000000  63196.00000  63196.000000  63196.000000  63196.000000  \n",
       "mean      -0.000012     -0.00001     -0.000008     -0.000008      1.212086  \n",
       "std        0.000198      0.00016      0.000133      0.000142      1.947578  \n",
       "min       -0.001280     -0.00112     -0.001090     -0.000980      0.000000  \n",
       "25%       -0.000040     -0.00004     -0.000030     -0.000030      0.000000  \n",
       "50%       -0.000010     -0.00001     -0.000010     -0.000010      0.000000  \n",
       "75%        0.000010      0.00001      0.000010      0.000010      2.000000  \n",
       "max        0.001270      0.00127      0.001270      0.001270      6.000000  "
      ]
     },
     "execution_count": 3,
     "metadata": {},
     "output_type": "execute_result"
    }
   ],
   "source": [
    "# Deskripsikan dataframe \n",
    "df.describe()"
   ]
  },
  {
   "cell_type": "code",
   "execution_count": 4,
   "metadata": {},
   "outputs": [
    {
     "name": "stdout",
     "output_type": "stream",
     "text": [
      "<class 'pandas.core.frame.DataFrame'>\n",
      "RangeIndex: 63196 entries, 0 to 63195\n",
      "Data columns (total 10 columns):\n",
      " #   Column    Non-Null Count  Dtype  \n",
      "---  ------    --------------  -----  \n",
      " 0   time      63196 non-null  int64  \n",
      " 1   channel1  63196 non-null  float64\n",
      " 2   channel2  63196 non-null  float64\n",
      " 3   channel3  63196 non-null  float64\n",
      " 4   channel4  63196 non-null  float64\n",
      " 5   channel5  63196 non-null  float64\n",
      " 6   channel6  63196 non-null  float64\n",
      " 7   channel7  63196 non-null  float64\n",
      " 8   channel8  63196 non-null  float64\n",
      " 9   class     63196 non-null  int64  \n",
      "dtypes: float64(8), int64(2)\n",
      "memory usage: 4.8 MB\n"
     ]
    }
   ],
   "source": [
    "# Rangkuman dataframe\n",
    "df.info()"
   ]
  },
  {
   "cell_type": "code",
   "execution_count": 5,
   "metadata": {},
   "outputs": [
    {
     "data": {
      "text/plain": [
       "(63196, 10)"
      ]
     },
     "execution_count": 5,
     "metadata": {},
     "output_type": "execute_result"
    }
   ],
   "source": [
    "# Banyaknya baris dan kolom \n",
    "df.shape"
   ]
  },
  {
   "cell_type": "code",
   "execution_count": 6,
   "metadata": {},
   "outputs": [],
   "source": [
    "# Mendefinisikan features\n",
    "X = df.drop('class', axis=1)\n",
    "\n",
    "# Mendefinisikan target\n",
    "y = df['class']"
   ]
  },
  {
   "cell_type": "code",
   "execution_count": 7,
   "metadata": {},
   "outputs": [
    {
     "name": "stdout",
     "output_type": "stream",
     "text": [
      "0        0\n",
      "1        0\n",
      "2        0\n",
      "3        0\n",
      "4        0\n",
      "        ..\n",
      "63191    0\n",
      "63192    0\n",
      "63193    0\n",
      "63194    0\n",
      "63195    0\n",
      "Name: class, Length: 63196, dtype: int64\n"
     ]
    }
   ],
   "source": [
    "print(y)"
   ]
  },
  {
   "cell_type": "code",
   "execution_count": 8,
   "metadata": {},
   "outputs": [],
   "source": [
    "# Memecah data set menjadi training dan validation set\n",
    "# test_size=0.2 artinya 20% data akan dialokasikan ke valaditation dan sisanya akan masuk ke training set\n",
    "\n",
    "from sklearn.model_selection import train_test_split\n",
    "train_X, valid_X, train_y, valid_y = train_test_split(X, y, test_size=0.2, random_state=1)"
   ]
  },
  {
   "cell_type": "code",
   "execution_count": 9,
   "metadata": {},
   "outputs": [],
   "source": [
    "import tensorflow as tf\n",
    "\n",
    "train_X = (train_X - train_X.mean()) / train_X.std()\n",
    "valid_X = (valid_X - valid_X.mean()) / valid_X.std()\n",
    "train_y = tf.keras.utils.to_categorical(train_y, 8)\n",
    "valid_y = tf.keras.utils.to_categorical(valid_y, 8)"
   ]
  },
  {
   "cell_type": "code",
   "execution_count": 10,
   "metadata": {},
   "outputs": [],
   "source": [
    "# Membangun neural network\n",
    "# Import library yang diperlukan \n",
    "import keras\n",
    "from keras import layers\n",
    "\n",
    "# Membangun deep learning model dengan 4 layer \n",
    "model = keras.Sequential([\n",
    "    # Layer pertama mempunyai 14 unit, input shape 9, dan fungsi aktivasi ReLU \n",
    "    layers.Dense(units=14, activation='relu', input_shape=(9,)),\n",
    "\n",
    "    # Layer kedua mempunyai 12 unit dan fungsi aktivasi ReLU\n",
    "    layers.Dense(units=12, activation='relu'),\n",
    "    layers.Dense(units=12, activation='relu'),\n",
    "\n",
    "    # Layer ketiga mempunya 10 unit dan fungsi aktivasi ReLU\n",
    "    layers.Dense(units=10, activation='relu'),\n",
    "\n",
    "    # Layer terakhir/output layer mempunyai 8unit dan fungsi aktivasi softmax\n",
    "    # Mengapa 8? Karena model ini akan mengklasifikasi datanya menjadi 8 kelas\n",
    "    layers.Dense(units=8, activation='softmax')\n",
    "])\n"
   ]
  },
  {
   "cell_type": "code",
   "execution_count": 11,
   "metadata": {},
   "outputs": [
    {
     "name": "stdout",
     "output_type": "stream",
     "text": [
      "Model: \"sequential\"\n",
      "_________________________________________________________________\n",
      " Layer (type)                Output Shape              Param #   \n",
      "=================================================================\n",
      " dense (Dense)               (None, 14)                140       \n",
      "                                                                 \n",
      " dense_1 (Dense)             (None, 12)                180       \n",
      "                                                                 \n",
      " dense_2 (Dense)             (None, 12)                156       \n",
      "                                                                 \n",
      " dense_3 (Dense)             (None, 10)                130       \n",
      "                                                                 \n",
      " dense_4 (Dense)             (None, 8)                 88        \n",
      "                                                                 \n",
      "=================================================================\n",
      "Total params: 694\n",
      "Trainable params: 694\n",
      "Non-trainable params: 0\n",
      "_________________________________________________________________\n",
      "None\n"
     ]
    }
   ],
   "source": [
    "# Memberikan rangkuman/sumary dari model yang dibuat\n",
    "print(model.summary())\n"
   ]
  },
  {
   "cell_type": "code",
   "execution_count": 12,
   "metadata": {},
   "outputs": [
    {
     "name": "stderr",
     "output_type": "stream",
     "text": [
      "c:\\Users\\User\\AppData\\Local\\Programs\\Python\\Python310\\lib\\site-packages\\keras\\optimizers\\optimizer_v2\\gradient_descent.py:114: UserWarning: The `lr` argument is deprecated, use `learning_rate` instead.\n",
      "  super().__init__(name, **kwargs)\n"
     ]
    }
   ],
   "source": [
    "# Mendefinisikan fungsi loss dan optimizer yang akan dipakai dalam pemelajaran\n",
    "from keras import optimizers\n",
    "model.compile(\n",
    "    optimizer=optimizers.SGD(lr=0.1), # Optimizer 'adam' digunakan untuk memperbarui weight model berdasarkan fungsi loss \n",
    "    loss='categorical_crossentropy',\n",
    "    metrics=['accuracy']\n",
    ")"
   ]
  },
  {
   "cell_type": "code",
   "execution_count": 13,
   "metadata": {},
   "outputs": [
    {
     "name": "stdout",
     "output_type": "stream",
     "text": [
      "Epoch 1/30\n",
      "1012/1012 [==============================] - 4s 3ms/step - loss: 1.0615 - accuracy: 0.6486 - val_loss: 0.9028 - val_accuracy: 0.6618\n",
      "Epoch 2/30\n",
      "1012/1012 [==============================] - 2s 2ms/step - loss: 0.8385 - accuracy: 0.6509 - val_loss: 0.7909 - val_accuracy: 0.6641\n",
      "Epoch 3/30\n",
      "1012/1012 [==============================] - 2s 2ms/step - loss: 0.7533 - accuracy: 0.6558 - val_loss: 0.7961 - val_accuracy: 0.6721\n",
      "Epoch 4/30\n",
      "1012/1012 [==============================] - 2s 2ms/step - loss: 0.6674 - accuracy: 0.6858 - val_loss: 0.8039 - val_accuracy: 0.6765\n",
      "Epoch 5/30\n",
      "1012/1012 [==============================] - 2s 2ms/step - loss: 0.6045 - accuracy: 0.7101 - val_loss: 0.6992 - val_accuracy: 0.6849\n",
      "Epoch 6/30\n",
      "1012/1012 [==============================] - 2s 2ms/step - loss: 0.5597 - accuracy: 0.7268 - val_loss: 0.6387 - val_accuracy: 0.6875\n",
      "Epoch 7/30\n",
      "1012/1012 [==============================] - 2s 2ms/step - loss: 0.5285 - accuracy: 0.7412 - val_loss: 0.6586 - val_accuracy: 0.6954\n",
      "Epoch 8/30\n",
      "1012/1012 [==============================] - 2s 2ms/step - loss: 0.5086 - accuracy: 0.7556 - val_loss: 1.0703 - val_accuracy: 0.6427\n",
      "Epoch 9/30\n",
      "1012/1012 [==============================] - 2s 2ms/step - loss: 0.4912 - accuracy: 0.7616 - val_loss: 0.8489 - val_accuracy: 0.6844\n",
      "Epoch 10/30\n",
      "1012/1012 [==============================] - 2s 2ms/step - loss: 0.4733 - accuracy: 0.7686 - val_loss: 0.5326 - val_accuracy: 0.7530\n",
      "Epoch 11/30\n",
      "1012/1012 [==============================] - 2s 2ms/step - loss: 0.4611 - accuracy: 0.7737 - val_loss: 0.6696 - val_accuracy: 0.6860\n",
      "Epoch 12/30\n",
      "1012/1012 [==============================] - 2s 2ms/step - loss: 0.4535 - accuracy: 0.7769 - val_loss: 0.5486 - val_accuracy: 0.7407\n",
      "Epoch 13/30\n",
      "1012/1012 [==============================] - 2s 2ms/step - loss: 0.4368 - accuracy: 0.7880 - val_loss: 0.6773 - val_accuracy: 0.7210\n",
      "Epoch 14/30\n",
      "1012/1012 [==============================] - 2s 2ms/step - loss: 0.4262 - accuracy: 0.7938 - val_loss: 0.7079 - val_accuracy: 0.7116\n",
      "Epoch 15/30\n",
      "1012/1012 [==============================] - 2s 2ms/step - loss: 0.4176 - accuracy: 0.7964 - val_loss: 0.5300 - val_accuracy: 0.7291\n",
      "Epoch 16/30\n",
      "1012/1012 [==============================] - 2s 2ms/step - loss: 0.4068 - accuracy: 0.8028 - val_loss: 0.3750 - val_accuracy: 0.8263\n",
      "Epoch 17/30\n",
      "1012/1012 [==============================] - 2s 2ms/step - loss: 0.4041 - accuracy: 0.8058 - val_loss: 0.7675 - val_accuracy: 0.6843\n",
      "Epoch 18/30\n",
      "1012/1012 [==============================] - 2s 2ms/step - loss: 0.3921 - accuracy: 0.8126 - val_loss: 0.6253 - val_accuracy: 0.7540\n",
      "Epoch 19/30\n",
      "1012/1012 [==============================] - 3s 3ms/step - loss: 0.3911 - accuracy: 0.8142 - val_loss: 0.6331 - val_accuracy: 0.7475\n",
      "Epoch 20/30\n",
      "1012/1012 [==============================] - 2s 2ms/step - loss: 0.3823 - accuracy: 0.8195 - val_loss: 0.5350 - val_accuracy: 0.7676\n",
      "Epoch 21/30\n",
      "1012/1012 [==============================] - 2s 2ms/step - loss: 0.3824 - accuracy: 0.8189 - val_loss: 0.5889 - val_accuracy: 0.7526\n",
      "Epoch 22/30\n",
      "1012/1012 [==============================] - 2s 2ms/step - loss: 0.3876 - accuracy: 0.8132 - val_loss: 0.6473 - val_accuracy: 0.7543\n",
      "Epoch 23/30\n",
      "1012/1012 [==============================] - 2s 2ms/step - loss: 0.3876 - accuracy: 0.8130 - val_loss: 0.3837 - val_accuracy: 0.8206\n",
      "Epoch 24/30\n",
      "1012/1012 [==============================] - 2s 2ms/step - loss: 0.3701 - accuracy: 0.8260 - val_loss: 0.8685 - val_accuracy: 0.7055\n",
      "Epoch 25/30\n",
      "1012/1012 [==============================] - 2s 2ms/step - loss: 0.3695 - accuracy: 0.8250 - val_loss: 0.4257 - val_accuracy: 0.8088\n",
      "Epoch 26/30\n",
      "1012/1012 [==============================] - 2s 2ms/step - loss: 0.3626 - accuracy: 0.8314 - val_loss: 0.6091 - val_accuracy: 0.7514\n",
      "Epoch 27/30\n",
      "1012/1012 [==============================] - 2s 2ms/step - loss: 0.3606 - accuracy: 0.8346 - val_loss: 0.3956 - val_accuracy: 0.8006\n",
      "Epoch 28/30\n",
      "1012/1012 [==============================] - 2s 2ms/step - loss: 0.3679 - accuracy: 0.8272 - val_loss: 0.7477 - val_accuracy: 0.7042\n",
      "Epoch 29/30\n",
      "1012/1012 [==============================] - 2s 2ms/step - loss: 0.3703 - accuracy: 0.8233 - val_loss: 0.4584 - val_accuracy: 0.8013\n",
      "Epoch 30/30\n",
      "1012/1012 [==============================] - 2s 2ms/step - loss: 0.3565 - accuracy: 0.8337 - val_loss: 0.5625 - val_accuracy: 0.7871\n"
     ]
    }
   ],
   "source": [
    "# Melakukan proses pembelajaran\n",
    "history = model.fit(\n",
    "    train_X, train_y, \n",
    "    validation_data=(valid_X, valid_y),\n",
    "    batch_size=50, \n",
    "    epochs=30 # Model akan melakukan training terhadap database 100 kali \n",
    ")"
   ]
  },
  {
   "cell_type": "code",
   "execution_count": 14,
   "metadata": {},
   "outputs": [
    {
     "data": {
      "text/plain": [
       "<AxesSubplot: >"
      ]
     },
     "execution_count": 14,
     "metadata": {},
     "output_type": "execute_result"
    },
    {
     "data": {
      "image/png": "[encoded data removed]",
      "text/plain": [
       "<Figure size 640x480 with 1 Axes>"
      ]
     },
     "metadata": {},
     "output_type": "display_data"
    }
   ],
   "source": [
    "# Mengubah history pembelajaran menjadi dataframe\n",
    "history_df = pd.DataFrame(history.history)\n",
    "\n",
    "# Gambarkan grafik trainingnya \n",
    "history_df['loss'].plot()"
   ]
  },
  {
   "cell_type": "code",
   "execution_count": 15,
   "metadata": {},
   "outputs": [
    {
     "name": "stdout",
     "output_type": "stream",
     "text": [
      "395/395 [==============================] - 1s 1ms/step - loss: 0.5625 - accuracy: 0.7871\n"
     ]
    }
   ],
   "source": [
    "test_loss, test_acc = model.evaluate(valid_X, valid_y)"
   ]
  },
  {
   "cell_type": "code",
   "execution_count": 26,
   "metadata": {},
   "outputs": [
    {
     "data": {
      "image/png": "[encoded data removed]",
      "text/plain": [
       "<PIL.Image.Image image mode=RGBA size=160x51>"
      ]
     },
     "execution_count": 26,
     "metadata": {},
     "output_type": "execute_result"
    }
   ],
   "source": [
    "from keras import layers\n",
    "from collections import defaultdict\n",
    "import visualkeras\n",
    "color_map = defaultdict(dict)\n",
    "color_map[layers.Conv2D]['fill'] = '#00f5d4'\n",
    "color_map[layers.MaxPooling2D]['fill'] = '#8338ec'\n",
    "color_map[layers.Dropout]['fill'] = '#03045e'\n",
    "color_map[layers.Dense]['fill'] = '#8338ec'\n",
    "color_map[layers.Flatten]['fill'] = '#ffbe0b'\n",
    "visualkeras.layered_view(model, legend=True, draw_volume=False, color_map=color_map)"
   ]
  },
  {
   "cell_type": "code",
   "execution_count": null,
   "metadata": {},
   "outputs": [],
   "source": [
    "hasil_prediksi = model.predict(train_X)\n",
    "\n",
    "print(hasil_prediksi)"
   ]
  },
  {
   "cell_type": "code",
   "execution_count": 22,
   "metadata": {},
   "outputs": [
    {
     "name": "stdout",
     "output_type": "stream",
     "text": [
      "You must install pydot (`pip install pydot`) and install graphviz (see instructions at https://graphviz.gitlab.io/download/) for plot_model to work.\n"
     ]
    }
   ],
   "source": [
    "from keras.utils.vis_utils import plot_model\n",
    "plot_model(model, show_shapes=True, show_layer_names=True)"
   ]
  }
 ],
 "metadata": {
  "kernelspec": {
   "display_name": "Python 3",
   "language": "python",
   "name": "python3"
  },
  "language_info": {
   "codemirror_mode": {
    "name": "ipython",
    "version": 3
   },
   "file_extension": ".py",
   "mimetype": "text/x-python",
   "name": "python",
   "nbconvert_exporter": "python",
   "pygments_lexer": "ipython3",
   "version": "3.10.4"
  },
  "orig_nbformat": 4,
  "vscode": {
   "interpreter": {
    "hash": "afb734500600fd355917ca529030176ea0ca205570884b88f2f6f7d791fd3fbe"
   }
  }
 },
 "nbformat": 4,
 "nbformat_minor": 2
}
